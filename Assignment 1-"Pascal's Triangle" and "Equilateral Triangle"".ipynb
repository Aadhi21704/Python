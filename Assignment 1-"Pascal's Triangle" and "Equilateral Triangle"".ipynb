{
 "cells": [
  {
   "cell_type": "markdown",
   "id": "bbf17edc",
   "metadata": {},
   "source": [
    "# Pascal's Triangle"
   ]
  },
  {
   "cell_type": "code",
   "execution_count": 3,
   "id": "b82bb1cf",
   "metadata": {},
   "outputs": [
    {
     "name": "stdout",
     "output_type": "stream",
     "text": [
      "Enter the number of rows: 6\n",
      "       1 \n",
      "      1 1 \n",
      "     1 2 1 \n",
      "    1 3 3 1 \n",
      "   1 4 6 4 1 \n",
      "  1 5 10 10 5 1 \n"
     ]
    }
   ],
   "source": [
    "#Create a python program to represent Pascals triangle.\n",
    "#The number of rows to be printed should be got from the user.\n",
    "\n",
    "from math import factorial\n",
    "\n",
    "n = int(input(\"Enter the number of rows: \"))\n",
    "\n",
    "for i in range(n):\n",
    "    for j in range(n-i+1):\n",
    "        # for left spacing\n",
    "        print(end=\" \")\n",
    "\n",
    "    for j in range(i+1):\n",
    "        # nCr = n!/((n-r)!*r!)\n",
    "        #n! --> factorial(i)\n",
    "        #r! --> factorial(j)\n",
    "        print(factorial(i)//(factorial(j)*factorial(i-j)), end=\" \")\n",
    "    # for new line\n",
    "    print()\n"
   ]
  },
  {
   "cell_type": "markdown",
   "id": "0b40bf4f",
   "metadata": {},
   "source": [
    "# Equilateral Triangle"
   ]
  },
  {
   "cell_type": "code",
   "execution_count": 5,
   "id": "865b22c2",
   "metadata": {},
   "outputs": [
    {
     "name": "stdout",
     "output_type": "stream",
     "text": [
      "Enter number of rows: 5\n",
      "    * \n",
      "\n",
      "   * * \n",
      "\n",
      "  * * * \n",
      "\n",
      " * * * * \n",
      "\n",
      "* * * * * \n",
      "\n"
     ]
    }
   ],
   "source": [
    "#Create a program to display an equilateral triangle using asterisk (*) symbol.\n",
    "\n",
    "def triangle(n):\n",
    "    k = n - 1\n",
    "    for i in range(0,n):\n",
    "        for j in range(0,k):\n",
    "            print(end = \" \")\n",
    "        k -= 1\n",
    "        for j in range (0, i+1):\n",
    "            print(\"* \", end='')\n",
    "        print(\"\\n\") \n",
    "\n",
    "#getting the input from user for the number of rows\n",
    "\n",
    "n = int(input(\"Enter number of rows: \"))\n",
    "triangle(n)"
   ]
  },
  {
   "cell_type": "code",
   "execution_count": null,
   "id": "d71671e1",
   "metadata": {},
   "outputs": [],
   "source": []
  }
 ],
 "metadata": {
  "kernelspec": {
   "display_name": "Python 3 (ipykernel)",
   "language": "python",
   "name": "python3"
  },
  "language_info": {
   "codemirror_mode": {
    "name": "ipython",
    "version": 3
   },
   "file_extension": ".py",
   "mimetype": "text/x-python",
   "name": "python",
   "nbconvert_exporter": "python",
   "pygments_lexer": "ipython3",
   "version": "3.9.12"
  }
 },
 "nbformat": 4,
 "nbformat_minor": 5
}
